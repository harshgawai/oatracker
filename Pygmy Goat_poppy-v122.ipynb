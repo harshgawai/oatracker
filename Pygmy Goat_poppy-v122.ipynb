{
 "cells": [
  {
   "cell_type": "markdown",
   "metadata": {},
   "source": [
    "# <span style=\"color:#FF00FF\">Open Access Counter 1.21 (in progress)</span><br>\n",
    "\n",
    "# also known as Pygmy Goat \n",
    "\n",
    "\n",
    "_Copyright 2021 Poppy Riddle & Dr. Colin Conrad_\n",
    "\n",
    "Permission is hereby granted, free of charge, to any person obtaining a copy of this software and associated documentation files (the \"Software\"), to deal in the Software without restriction, including without limitation the rights to use, copy, modify, merge, publish, distribute, sublicense, and/or sell copies of the Software, and to permit persons to whom the Software is furnished to do so, subject to the following conditions:\n",
    "\n",
    "The above copyright notice and this permission notice shall be included in all copies or substantial portions of the Software.\n",
    "\n",
    "THE SOFTWARE IS PROVIDED \"AS IS\", WITHOUT WARRANTY OF ANY KIND, EXPRESS OR IMPLIED, INCLUDING BUT NOT LIMITED TO THE WARRANTIES OF MERCHANTABILITY, FITNESS FOR A PARTICULAR PURPOSE AND NONINFRINGEMENT. IN NO EVENT SHALL THE AUTHORS OR COPYRIGHT HOLDERS BE LIABLE FOR ANY CLAIM, DAMAGES OR OTHER LIABILITY, WHETHER IN AN ACTION OF CONTRACT, TORT OR OTHERWISE, ARISING FROM, OUT OF OR IN CONNECTION WITH THE SOFTWARE OR THE USE OR OTHER DEALINGS IN THE SOFTWARE.\n",
    "\n",
    "## What is the Open Access Counter?\n",
    "This is a script designed to take a list of ORCID entries and return the number of open access publications the author has. The script currently draws from the Unpaywall API to determine OA status for each text, and is currently using orcid.org to determine the list of the authors' publications. When this script is finished, it will do the following:\n",
    "1. Input ORCIDs\n",
    "2. Retrieve DOIs for the researchers\n",
    "3. Use the DOIs to count the number of open access publications and return the result\n",
    "4. Plot the results visually\n",
    "5. write results to a csv file. \n",
    "\n",
    "#### to add?\n",
    "1. pull up where it stored?\n",
    "\n",
    "The script is designed to be supported by markdown so that it is explained clearly in an easy-to-read way.\n",
    "\n",
    "\n"
   ]
  },
  {
   "cell_type": "markdown",
   "metadata": {},
   "source": [
    "## <span style=\"color:#FF00FF\">issues to address in this version </span>\n",
    "#### Is there a need for the school to be included on the csv import? \n",
    "#### create functions for each section so that running a function is easier and cleaner\n",
    "    is it possible to save out to .py and then load and run the function?\n",
    "#### revisit the orchid API? Is there a problem running it like I am?\n",
    "    The current way makes it easier for others without orcid authorization to run the script. If I use the orchid API with authorization, then someone needs to have an orcid ID - thus limiting its use. \n",
    "#### Remove the descriptive statistics?\n",
    "#### improve the visualization for output to png or pdf in a ready to print size. \n",
    "#### Make this exportable/usable as a webpage/nbviewer application\n",
    "    See https://nbviewer.jupyter.org/github/ipython/ipython/blob/master/examples/IPython%20Kernel/Rich%20Output.ipynb for rich text with images/logos\n",
    "    \n",
    "\n",
    "    "
   ]
  },
  {
   "cell_type": "markdown",
   "metadata": {},
   "source": [
    "# Step 1: Sign in\n",
    "Please enter your institutional email at the prompt. Thank you!<br>\n",
    "This is used to access the <i>polite</i> API request pool, which is faster!"
   ]
  },
  {
   "cell_type": "code",
   "execution_count": 1,
   "metadata": {},
   "outputs": [],
   "source": [
    "email = input(\"Please enter your email here: \")\n",
    "#regex to check format?\n",
    "\n"
   ]
  },
  {
   "cell_type": "markdown",
   "metadata": {},
   "source": [
    "#### <span style=\"color:#FF00FF\">add another sign in for ORCID authorization - perhaps as a way to make this legit?\n",
    "https://orcid.org/developer-tools\n",
    "    </span><br>\n"
   ]
  },
  {
   "cell_type": "markdown",
   "metadata": {},
   "source": [
    "## Step 2: Specify the ORCID to be retrieved\n",
    "The finished script should use a Python list to retrieve a series of ORCIDs. These should be manually specified, but could easily be modified to take them from a CSV file using Python's CSV library if we so choose."
   ]
  },
  {
   "cell_type": "markdown",
   "metadata": {},
   "source": [
    "### Import csv function to read into orcids\n",
    " \n",
    " There is an easy way to get lots of ORCIDs from orcid.org. Do an advanced search for the institution name. With the results, you can cut and paste into an Excel doc, then export as csv to read into here. \n",
    " Such as this one for 'Dalhousie University'\n",
    " https://orcid.org/orcid-search/search?institution=Dalhousie%20University\n",
    " <br>\n",
    " Be sure to save your csv file in your working directory<br>\n",
    " \n",
    " #### <span style=\"color:#FF00FF\">currently this requires the csv to meet a format requirement with a column for orcid ID and one for school. keep this? improve this?</span><br>\n",
    " "
   ]
  },
  {
   "cell_type": "code",
   "execution_count": 2,
   "metadata": {},
   "outputs": [],
   "source": [
    "import pandas as pd # import pandas \n",
    "import numpy as np # imports numpy, we need this for Seaborn later\n",
    "import matplotlib.pyplot as plt # notation for importing matplotlib"
   ]
  },
  {
   "cell_type": "code",
   "execution_count": 3,
   "metadata": {},
   "outputs": [],
   "source": [
    "orcids = pd.read_csv('30_orcids.csv') # command pandas to import the data. Pandas, I command thee"
   ]
  },
  {
   "cell_type": "code",
   "execution_count": 4,
   "metadata": {},
   "outputs": [],
   "source": [
    "orcids = orcids['ORCID ID'].tolist() # to convert to list\n"
   ]
  },
  {
   "cell_type": "code",
   "execution_count": 5,
   "metadata": {
    "scrolled": false
   },
   "outputs": [
    {
     "name": "stdout",
     "output_type": "stream",
     "text": [
      "<class 'list'>\n",
      "['0000-0001-6333-1067', '0000-0003-2469-541X', '0000-0002-6362-7367', '0000-0002-1390-3597', '0000-0002-2703-8258', '0000-0002-5253-2565', '0000-0003-3507-984X', '0000-0002-1144-768X', '0000-0002-5304-0036', '0000-0003-4939-3928', '0000-0001-6093-3169', '0000-0001-6373-128X', '0000-0002-4762-8175', '0000-0001-9660-0278', '0000-0003-1323-0908', '0000-0002-5440-1817', '0000-0003-1479-7826', '0000-0002-8275-5241', '0000-0003-0835-2089', '0000-0002-8304-5647', '0000-0003-3619-9448', '0000-0002-9676-7921', '0000-0002-7564-1182', '0000-0001-9509-4991', '0000-0001-7826-5111', '0000-0001-8845-5656', '0000-0002-0781-4571', '0000-0002-2203-1356', '0000-0002-8018-190X', '0000-0001-9394-9458']\n"
     ]
    }
   ],
   "source": [
    "print(type(orcids))\n",
    "print(orcids)"
   ]
  },
  {
   "cell_type": "markdown",
   "metadata": {},
   "source": [
    "### Optional manual entry for ORCIDs - \n",
    "#### be mindful of the format!\n",
    "\n",
    "#### <span style=\"color:#FF00FF\">challenge - create manual entry that also accepts something for the school column. </span><br>"
   ]
  },
  {
   "cell_type": "code",
   "execution_count": 3,
   "metadata": {
    "scrolled": false
   },
   "outputs": [
    {
     "name": "stdout",
     "output_type": "stream",
     "text": [
      "Enter an ORCID#\n",
      "Use xxxx-xxxx-xxxx-xxxx format:q\n",
      "thanks!\n"
     ]
    }
   ],
   "source": [
    "#this allows someone to enter ORCID numbers manually, but limits the format    \n",
    "import re\n",
    "\n",
    "chex = re.compile(r'\\d{4}-\\d{4}-\\d{4}')\n",
    "while True: \n",
    "    typed_orcid = input(\"Enter an ORCID#\\nUse xxxx-xxxx-xxxx-xxxx format:\")\n",
    "    if typed_orcid == 'q':\n",
    "        print('thanks!')\n",
    "        break\n",
    "    elif chex.match(typed_orcid):\n",
    "        print(\"Correct format\")\n",
    "        if typed_orcid not in orcids:\n",
    "            print('do you have another one? Or, q to quit')\n",
    "            orcids.append(typed_orcid)\n",
    "    else:\n",
    "        print('try again?')    \n",
    "#citation: from JCOC611 response to: https://stackoverflow.com/questions/35686569/string-format-checking-in-python\n",
    "#I used the above code as ispiration, but it took a bit of wrangling to fit to my needs"
   ]
  },
  {
   "cell_type": "code",
   "execution_count": 12,
   "metadata": {},
   "outputs": [],
   "source": [
    "orcids = orcids['ORCID ID'].tolist() # to convert to list\n"
   ]
  },
  {
   "cell_type": "code",
   "execution_count": 13,
   "metadata": {},
   "outputs": [
    {
     "data": {
      "text/plain": [
       "['0000-0002-2733-0689']"
      ]
     },
     "execution_count": 13,
     "metadata": {},
     "output_type": "execute_result"
    }
   ],
   "source": [
    "orcids #check the list"
   ]
  },
  {
   "cell_type": "markdown",
   "metadata": {},
   "source": [
    "## Step 3: Retrieve the DOIs for the researchers "
   ]
  },
  {
   "cell_type": "markdown",
   "metadata": {},
   "source": [
    "# orcid.org API section\n",
    "Becuase there seems to be very few from the crossref. Perhaps we need to check these against each other?\n",
    "### create links for the orcid.org API\n",
    "\n",
    "#### <span style=\"color:#FF00FF\">use regex to check format and clean up loop as needed?</span><br> "
   ]
  },
  {
   "cell_type": "code",
   "execution_count": 14,
   "metadata": {
    "scrolled": false
   },
   "outputs": [
    {
     "data": {
      "text/plain": [
       "['https://pub.orcid.org/v3.0/0000-0002-2733-0689']"
      ]
     },
     "execution_count": 14,
     "metadata": {},
     "output_type": "execute_result"
    }
   ],
   "source": [
    "#this creates links for orcid.org appended with orcid ids\n",
    "# this does NOT follow the API tutorial for a public request, but it seems to work. \n",
    "orcid_org_link = []\n",
    "for i in orcids:\n",
    "    \n",
    "    orcid_org_web_address = \"https://pub.orcid.org/v3.0/\"\n",
    "    orcid_org_address = [(i)]\n",
    "    b = orcid_org_web_address + str(orcid_org_address).lstrip('[').lstrip(\"'\").rstrip(']').rstrip(\"'\")\n",
    "    orcid_org_link.append(b)\n",
    "\n",
    "orcid_org_link # check the list\n"
   ]
  },
  {
   "cell_type": "markdown",
   "metadata": {},
   "source": [
    "### send the link to the orcid.org API, convert to json then extract DOI\n",
    "This function will create an ordered list of DOIs from ORCID.org\n",
    "Combine/compare with the crossref DOI list?\n",
    "\n",
    "#### <span style=\"color:#FF00FF\">This is not following orcid.org's documentation. change this so that it uses appropriate authorization?</span><br>"
   ]
  },
  {
   "cell_type": "code",
   "execution_count": 16,
   "metadata": {},
   "outputs": [],
   "source": [
    "#citation: https://reqbin.com/req/python/5nqtoxbx/get-json-example\n",
    "#this puts the api response from orcid.org in a much cleaner dictionary\n",
    "#I'm not really sure what's going on behind the scenes, but its a step closer...\n",
    "import requests\n",
    "import json\n",
    "from requests.structures import CaseInsensitiveDict\n",
    "\n",
    "headers = CaseInsensitiveDict()\n",
    "headers[\"Accept\"] = \"application/json\"\n",
    "\n",
    "#create new doi list for cleaned, yet ordered, list of dois\n",
    "doi_list_orcid_org = []\n",
    "\n",
    "def getDOI_orcid_org():    \n",
    "    i = 0\n",
    "    for i in range(len(orcid_org_link)):\n",
    "        resp2 = requests.get(orcid_org_link[i], headers=headers)\n",
    "        data2 = resp2.json()\n",
    "        doi_list_orcid_org.append(data2) #appends each full json response to a long list\n",
    "        i += 1\n",
    "        return resp2\n",
    "    print(resp2) #gives me an indication its done  \n"
   ]
  },
  {
   "cell_type": "markdown",
   "metadata": {},
   "source": [
    "#### send the function to use the API for the whole list\n",
    "You will see a response when its complete<br>\n",
    "A 400 level response is not good, <br>\n",
    "A 200 response is good. "
   ]
  },
  {
   "cell_type": "code",
   "execution_count": 17,
   "metadata": {},
   "outputs": [
    {
     "data": {
      "text/plain": [
       "<Response [200]>"
      ]
     },
     "execution_count": 17,
     "metadata": {},
     "output_type": "execute_result"
    }
   ],
   "source": [
    "getDOI_orcid_org()"
   ]
  },
  {
   "cell_type": "code",
   "execution_count": 18,
   "metadata": {},
   "outputs": [
    {
     "data": {
      "text/plain": [
       "[{'orcid-identifier': {'uri': 'https://orcid.org/0000-0002-2733-0689',\n",
       "   'path': '0000-0002-2733-0689',\n",
       "   'host': 'orcid.org'},\n",
       "  'preferences': {'locale': 'en'},\n",
       "  'history': {'creation-method': 'DIRECT',\n",
       "   'completion-date': None,\n",
       "   'submission-date': {'value': 1466946547885},\n",
       "   'last-modified-date': {'value': 1627398458244},\n",
       "   'claimed': True,\n",
       "   'source': None,\n",
       "   'deactivation-date': None,\n",
       "   'verified-email': True,\n",
       "   'verified-primary-email': True},\n",
       "  'person': {'last-modified-date': None,\n",
       "   'name': {'created-date': {'value': 1466946548106},\n",
       "    'last-modified-date': {'value': 1466946548106},\n",
       "    'given-names': {'value': 'Vincent'},\n",
       "    'family-name': {'value': 'Larivière'},\n",
       "    'credit-name': None,\n",
       "    'source': None,\n",
       "    'visibility': 'public',\n",
       "    'path': '0000-0002-2733-0689'},\n",
       "   'other-names': {'last-modified-date': None,\n",
       "    'other-name': [],\n",
       "    'path': '/0000-0002-2733-0689/other-names'},\n",
       "   'biography': None,\n",
       "   'researcher-urls': {'last-modified-date': None,\n",
       "    'researcher-url': [],\n",
       "    'path': '/0000-0002-2733-0689/researcher-urls'},\n",
       "   'emails': {'last-modified-date': None,\n",
       "    'email': [],\n",
       "    'path': '/0000-0002-2733-0689/email'},\n",
       "   'addresses': {'last-modified-date': None,\n",
       "    'address': [],\n",
       "    'path': '/0000-0002-2733-0689/address'},\n",
       "   'keywords': {'last-modified-date': None,\n",
       "    'keyword': [],\n",
       "    'path': '/0000-0002-2733-0689/keywords'},\n",
       "   'external-identifiers': {'last-modified-date': None,\n",
       "    'external-identifier': [],\n",
       "    'path': '/0000-0002-2733-0689/external-identifiers'},\n",
       "   'path': '/0000-0002-2733-0689/person'},\n",
       "  'activities-summary': {'last-modified-date': {'value': 1627398458242},\n",
       "   'distinctions': {'last-modified-date': None,\n",
       "    'affiliation-group': [],\n",
       "    'path': '/0000-0002-2733-0689/distinctions'},\n",
       "   'educations': {'last-modified-date': None,\n",
       "    'affiliation-group': [],\n",
       "    'path': '/0000-0002-2733-0689/educations'},\n",
       "   'employments': {'last-modified-date': {'value': 1627395607869},\n",
       "    'affiliation-group': [{'last-modified-date': {'value': 1627395607869},\n",
       "      'external-ids': {'external-id': []},\n",
       "      'summaries': [{'employment-summary': {'created-date': {'value': 1627395607869},\n",
       "         'last-modified-date': {'value': 1627395607869},\n",
       "         'source': {'source-orcid': {'uri': 'https://orcid.org/0000-0002-2733-0689',\n",
       "           'path': '0000-0002-2733-0689',\n",
       "           'host': 'orcid.org'},\n",
       "          'source-client-id': None,\n",
       "          'source-name': {'value': 'Vincent Larivière'},\n",
       "          'assertion-origin-orcid': None,\n",
       "          'assertion-origin-client-id': None,\n",
       "          'assertion-origin-name': None},\n",
       "         'put-code': 15397084,\n",
       "         'department-name': None,\n",
       "         'role-title': None,\n",
       "         'start-date': None,\n",
       "         'end-date': None,\n",
       "         'organization': {'name': 'Université de Montréal',\n",
       "          'address': {'city': 'Montreal', 'region': 'QC', 'country': 'CA'},\n",
       "          'disambiguated-organization': {'disambiguated-organization-identifier': '5622',\n",
       "           'disambiguation-source': 'RINGGOLD'}},\n",
       "         'url': None,\n",
       "         'external-ids': None,\n",
       "         'display-index': '1',\n",
       "         'visibility': 'public',\n",
       "         'path': '/0000-0002-2733-0689/employment/15397084'}}]}],\n",
       "    'path': '/0000-0002-2733-0689/employments'},\n",
       "   'fundings': {'last-modified-date': None,\n",
       "    'group': [],\n",
       "    'path': '/0000-0002-2733-0689/fundings'},\n",
       "   'invited-positions': {'last-modified-date': None,\n",
       "    'affiliation-group': [],\n",
       "    'path': '/0000-0002-2733-0689/invited-positions'},\n",
       "   'memberships': {'last-modified-date': None,\n",
       "    'affiliation-group': [],\n",
       "    'path': '/0000-0002-2733-0689/memberships'},\n",
       "   'peer-reviews': {'last-modified-date': None,\n",
       "    'group': [],\n",
       "    'path': '/0000-0002-2733-0689/peer-reviews'},\n",
       "   'qualifications': {'last-modified-date': {'value': 1627398458242},\n",
       "    'affiliation-group': [{'last-modified-date': {'value': 1627398458242},\n",
       "      'external-ids': {'external-id': []},\n",
       "      'summaries': [{'qualification-summary': {'created-date': {'value': 1627398380129},\n",
       "         'last-modified-date': {'value': 1627398458242},\n",
       "         'source': {'source-orcid': {'uri': 'https://orcid.org/0000-0002-2733-0689',\n",
       "           'path': '0000-0002-2733-0689',\n",
       "           'host': 'orcid.org'},\n",
       "          'source-client-id': None,\n",
       "          'source-name': {'value': 'Vincent Larivière'},\n",
       "          'assertion-origin-orcid': None,\n",
       "          'assertion-origin-client-id': None,\n",
       "          'assertion-origin-name': None},\n",
       "         'put-code': 15397481,\n",
       "         'department-name': None,\n",
       "         'role-title': 'PhD',\n",
       "         'start-date': None,\n",
       "         'end-date': None,\n",
       "         'organization': {'name': 'McGill University',\n",
       "          'address': {'city': 'QC', 'region': 'QC', 'country': 'CA'},\n",
       "          'disambiguated-organization': {'disambiguated-organization-identifier': 'http://dx.doi.org/10.13039/100008582',\n",
       "           'disambiguation-source': 'FUNDREF'}},\n",
       "         'url': None,\n",
       "         'external-ids': None,\n",
       "         'display-index': '1',\n",
       "         'visibility': 'public',\n",
       "         'path': '/0000-0002-2733-0689/qualification/15397481'}}]}],\n",
       "    'path': '/0000-0002-2733-0689/qualifications'},\n",
       "   'research-resources': {'last-modified-date': None,\n",
       "    'group': [],\n",
       "    'path': '/0000-0002-2733-0689/research-resources'},\n",
       "   'services': {'last-modified-date': None,\n",
       "    'affiliation-group': [],\n",
       "    'path': '/0000-0002-2733-0689/services'},\n",
       "   'works': {'last-modified-date': None,\n",
       "    'group': [],\n",
       "    'path': '/0000-0002-2733-0689/works'},\n",
       "   'path': '/0000-0002-2733-0689/activities'},\n",
       "  'path': '/0000-0002-2733-0689'}]"
      ]
     },
     "execution_count": 18,
     "metadata": {},
     "output_type": "execute_result"
    }
   ],
   "source": [
    "doi_list_orcid_org # looking good! that's a lot more information for everyone"
   ]
  },
  {
   "cell_type": "markdown",
   "metadata": {},
   "source": [
    "### create function to extract DOI from returned ORCID.org data\n"
   ]
  },
  {
   "cell_type": "code",
   "execution_count": 19,
   "metadata": {},
   "outputs": [],
   "source": [
    "#citation - https://gist.github.com/toddbirchard/b6f86f03f6cf4fc9492ad4349ee7ff8b\n",
    "#This extracts just the DOI without fumbling through objects and lists and dictionaries\n",
    "#how does this work? it may run on unicorn poop...actually, the Zweigart book, Ch 5 explains it well\n",
    "\n",
    "def json_extract(obj, key):\n",
    "    \"\"\"Recursively fetch values from nested JSON.\"\"\"\n",
    "    arr = []\n",
    "\n",
    "    def extract(obj, arr, key):\n",
    "        \"\"\"Recursively search for values of key in JSON tree.\"\"\"\n",
    "        if isinstance(obj, dict):\n",
    "            for k, v in obj.items():\n",
    "                if isinstance(v, (dict, list)):\n",
    "                    extract(v, arr, key)\n",
    "                elif k == key:\n",
    "                    arr.append(v)\n",
    "        elif isinstance(obj, list):\n",
    "            for item in obj:\n",
    "                extract(item, arr, key)\n",
    "        return arr\n",
    "\n",
    "    values = extract(obj, arr, key)\n",
    "    return values"
   ]
  },
  {
   "cell_type": "markdown",
   "metadata": {},
   "source": [
    "#### This next block runs the extract function so that we only have DOIs"
   ]
  },
  {
   "cell_type": "code",
   "execution_count": 20,
   "metadata": {
    "scrolled": true
   },
   "outputs": [],
   "source": [
    "#Creates a nested list according to the doi_list_orcid_org for all the returned API queries\n",
    "j = 0\n",
    "eiv_all = []\n",
    "eit_all = []\n",
    "for j in range(len(doi_list_orcid_org)):\n",
    "    \n",
    "    a = json_extract(doi_list_orcid_org[j],'external-id-value')#this brings up lots of identifiers\n",
    "    b = json_extract(doi_list_orcid_org[j],'external-id-type') #this returns the indentifier type \n",
    "    eiv_all.append(a)\n",
    "    eit_all.append(b)\n",
    "\n"
   ]
  },
  {
   "cell_type": "markdown",
   "metadata": {},
   "source": [
    "#### and check to see that we still have the correct amount of ordered groups...\n",
    "These will be different for every search you perform"
   ]
  },
  {
   "cell_type": "code",
   "execution_count": 21,
   "metadata": {
    "scrolled": true
   },
   "outputs": [
    {
     "name": "stdout",
     "output_type": "stream",
     "text": [
      "1\n",
      "1\n"
     ]
    }
   ],
   "source": [
    "print(len(eiv_all)) #still  ordered groups\n",
    "print(len(eit_all)) # also still  \n",
    "#and verified that each list is different from the next"
   ]
  },
  {
   "cell_type": "markdown",
   "metadata": {},
   "source": [
    "#### This block should create a nested list (ordered just like the ocrid list) of all the DOIs. \n"
   ]
  },
  {
   "cell_type": "code",
   "execution_count": 22,
   "metadata": {
    "scrolled": false
   },
   "outputs": [
    {
     "data": {
      "text/plain": [
       "1"
      ]
     },
     "execution_count": 22,
     "metadata": {},
     "output_type": "execute_result"
    }
   ],
   "source": [
    "#This cleans up the eiv_all list into a new list called eiv_clean by comparing the eiv_all with eit_all\n",
    "#IF the item in eit_all has a value of 'doi' then the same index value of eiv_all is appended to a new list\n",
    "#this should just be dois in the new eiv_clean_all list. \n",
    "eiv_clean_all = []\n",
    "eit_clean_all = []\n",
    "y = 0\n",
    "z = 0\n",
    "\n",
    "while z < len(doi_list_orcid_org): #different way to go through the list, the for in range(len()) method was not working\n",
    "    templist = [] \n",
    "    templist2 = []\n",
    "    for y in range(len(eiv_all[z])): \n",
    "\n",
    "        if eit_all[z][y] == 'doi':\n",
    "            templist.append(eiv_all[z][y])\n",
    "            templist2.append(eit_all[z][y])\n",
    "            y += 1\n",
    "    eiv_clean_all.append(templist) \n",
    "            \n",
    "    eit_clean_all.append(templist2)\n",
    "        \n",
    "    z += 1\n",
    "\n",
    "\n",
    "len(eiv_clean_all) #both are still in nested lists\n",
    "\n",
    "len(eit_clean_all) \n",
    "### wooo....that was fighting the bear....\n"
   ]
  },
  {
   "cell_type": "markdown",
   "metadata": {},
   "source": [
    "#### need to remove duplicates from each nested list\n"
   ]
  },
  {
   "cell_type": "code",
   "execution_count": 23,
   "metadata": {},
   "outputs": [
    {
     "data": {
      "text/plain": [
       "[[]]"
      ]
     },
     "execution_count": 23,
     "metadata": {},
     "output_type": "execute_result"
    }
   ],
   "source": [
    "z = 0\n",
    "eiv_superclean = []\n",
    "while z < len(eit_clean_all): #different way to go through the list, the for in range(len()) method was not working\n",
    "    templist = [] \n",
    "    \n",
    "    for y in range(len(eiv_clean_all[z])): \n",
    "\n",
    "        if eiv_clean_all[z][y] not in templist:\n",
    "            templist.append(eiv_clean_all[z][y])\n",
    "            \n",
    "            y += 1\n",
    "    eiv_superclean.append(templist) \n",
    "    z += 1\n",
    "eiv_superclean \n",
    "#slow and steady - now we have a clean list that is still ordered to the orcid list"
   ]
  },
  {
   "cell_type": "code",
   "execution_count": 24,
   "metadata": {},
   "outputs": [
    {
     "data": {
      "text/html": [
       "<div>\n",
       "<style scoped>\n",
       "    .dataframe tbody tr th:only-of-type {\n",
       "        vertical-align: middle;\n",
       "    }\n",
       "\n",
       "    .dataframe tbody tr th {\n",
       "        vertical-align: top;\n",
       "    }\n",
       "\n",
       "    .dataframe thead th {\n",
       "        text-align: right;\n",
       "    }\n",
       "</style>\n",
       "<table border=\"1\" class=\"dataframe\">\n",
       "  <thead>\n",
       "    <tr style=\"text-align: right;\">\n",
       "      <th></th>\n",
       "    </tr>\n",
       "  </thead>\n",
       "  <tbody>\n",
       "    <tr>\n",
       "      <th>0000-0002-2733-0689</th>\n",
       "    </tr>\n",
       "  </tbody>\n",
       "</table>\n",
       "</div>"
      ],
      "text/plain": [
       "Empty DataFrame\n",
       "Columns: []\n",
       "Index: [0000-0002-2733-0689]"
      ]
     },
     "execution_count": 24,
     "metadata": {},
     "output_type": "execute_result"
    }
   ],
   "source": [
    "#just to see what this is looking like. \n",
    "import pandas as pd\n",
    "index = orcids\n",
    "df = pd.DataFrame(eiv_superclean, index)\n",
    "df\n",
    "\n",
    "#our list is ordered, so it should correspond with the ORCIDs. it does!!\n"
   ]
  },
  {
   "cell_type": "markdown",
   "metadata": {},
   "source": [
    "#### We'll return to this list later....\n",
    "Now that we have a successful clean list of DOI's returned for ORCID numbers, I'll use this data instead of the Crossref API data to finish our project..."
   ]
  },
  {
   "cell_type": "markdown",
   "metadata": {},
   "source": [
    "# Step 4: Use the DOIs to count the number of OA publications\n",
    "### Using the list from orcids.org\n",
    "I'l pull the following data from eiv_superclean\n"
   ]
  },
  {
   "cell_type": "code",
   "execution_count": 25,
   "metadata": {},
   "outputs": [],
   "source": [
    "### this is good to go - what a challenge this was. \n",
    "x = 0\n",
    "y = 0\n",
    "unpaywall_list = []\n",
    "for x in range(len(eiv_superclean)):\n",
    "    unpaywall_group = []\n",
    "    for y in range(len(eiv_superclean[x])):\n",
    "        url = 'https://api.unpaywall.org/v2/' + str(eiv_superclean[x][y]) + '?email=' + email # request unpaywall data for the first doi\n",
    "        request = requests.get(url) # request the url - colin's\n",
    "        c = request.json() # write a sample of the JSON output - colin's\n",
    "        unpaywall_group.append(c) #saves as a list to unpaywall_list - colin's\n",
    "        y += 1\n",
    "    unpaywall_list.append(unpaywall_group)\n",
    "    x += 1\n"
   ]
  },
  {
   "cell_type": "markdown",
   "metadata": {},
   "source": [
    "#### call the list\n",
    "Its a lot of info - can it be filtered?\n",
    "The list is still nested in 50 groups. Yes!"
   ]
  },
  {
   "cell_type": "code",
   "execution_count": 26,
   "metadata": {},
   "outputs": [
    {
     "name": "stdout",
     "output_type": "stream",
     "text": [
      "1\n"
     ]
    }
   ],
   "source": [
    "print(len(unpaywall_list))\n",
    "try:\n",
    "    unpaywall_list[0][0]['is_oa']# to check the first DOI publication\n",
    "except:\n",
    "    pass"
   ]
  },
  {
   "cell_type": "markdown",
   "metadata": {},
   "source": [
    "### this creates an ordered list of which publications are OA\n",
    "This is creating the problem that each DOI may be published in multiple places"
   ]
  },
  {
   "cell_type": "code",
   "execution_count": 27,
   "metadata": {
    "scrolled": true
   },
   "outputs": [
    {
     "data": {
      "text/plain": [
       "1"
      ]
     },
     "execution_count": 27,
     "metadata": {},
     "output_type": "execute_result"
    }
   ],
   "source": [
    "#This seems to be working...Its finding the 'is_oa' for the first journal of each DOI\n",
    "is_oa_list = []\n",
    "f = 0\n",
    "for f in range(len(unpaywall_list)):\n",
    "    g = 0\n",
    "    group_oa = []\n",
    "    for item in unpaywall_list[f]:\n",
    "        each_oa = unpaywall_list[f][g]['is_oa'] #looks for journal name for now till i get this working\n",
    "        group_oa.append(each_oa)\n",
    "    is_oa_list.append(group_oa)\n",
    "    f += 1\n",
    "is_oa_list\n",
    "len(is_oa_list) #still grouped in 50!"
   ]
  },
  {
   "cell_type": "code",
   "execution_count": 28,
   "metadata": {},
   "outputs": [
    {
     "data": {
      "text/html": [
       "<div>\n",
       "<style scoped>\n",
       "    .dataframe tbody tr th:only-of-type {\n",
       "        vertical-align: middle;\n",
       "    }\n",
       "\n",
       "    .dataframe tbody tr th {\n",
       "        vertical-align: top;\n",
       "    }\n",
       "\n",
       "    .dataframe thead th {\n",
       "        text-align: right;\n",
       "    }\n",
       "</style>\n",
       "<table border=\"1\" class=\"dataframe\">\n",
       "  <thead>\n",
       "    <tr style=\"text-align: right;\">\n",
       "      <th></th>\n",
       "    </tr>\n",
       "  </thead>\n",
       "  <tbody>\n",
       "    <tr>\n",
       "      <th>0000-0002-2733-0689</th>\n",
       "    </tr>\n",
       "  </tbody>\n",
       "</table>\n",
       "</div>"
      ],
      "text/plain": [
       "Empty DataFrame\n",
       "Columns: []\n",
       "Index: [0000-0002-2733-0689]"
      ]
     },
     "execution_count": 28,
     "metadata": {},
     "output_type": "execute_result"
    }
   ],
   "source": [
    "#lets see this in df form\n",
    "#how do the doi's line up with the is_oa_list?\n",
    "#just to see what this is looking like. \n",
    "import pandas as pd\n",
    "index = orcids\n",
    "df = pd.DataFrame(is_oa_list, index)\n",
    "df\n"
   ]
  },
  {
   "cell_type": "markdown",
   "metadata": {},
   "source": [
    "### What's the results?\n",
    "Starting with ORCIDs, we've sent API requests to return DOI's and then sent DOIs to see if the publications are OA. (enough apprebreviations?)\n",
    "Now, I'd like to see which DOI's are OA for each ORCID..."
   ]
  },
  {
   "cell_type": "code",
   "execution_count": 29,
   "metadata": {},
   "outputs": [
    {
     "data": {
      "text/plain": [
       "[]"
      ]
     },
     "execution_count": 29,
     "metadata": {},
     "output_type": "execute_result"
    }
   ],
   "source": [
    "#example of data tuple so that its easier to table for each orcid...\n",
    "try:\n",
    "    a = str(is_oa_list[0][0]) + \" \" + eiv_superclean[0][0]\n",
    "except:\n",
    "    pass\n",
    "a # sometimes it might be blank - not all ORCIDs produce DOIs, therefore no is_oa"
   ]
  },
  {
   "cell_type": "code",
   "execution_count": 30,
   "metadata": {},
   "outputs": [
    {
     "data": {
      "text/plain": [
       "[[]]"
      ]
     },
     "execution_count": 30,
     "metadata": {},
     "output_type": "execute_result"
    }
   ],
   "source": [
    "#create tuples out of the DOIs and the is_oa_list keeping them ordered...\n",
    "data_tuples = []\n",
    "i = 0\n",
    "\n",
    "for i in range(len(eiv_superclean)):\n",
    "    temp = []\n",
    "    k = 0\n",
    "    for k in range(len(eiv_superclean[i])):\n",
    "        a = str(is_oa_list[i][k]) + \" \" + eiv_superclean[i][k]   \n",
    "        temp.append(a)\n",
    "        k += 1\n",
    "    data_tuples.append(temp)\n",
    "    i += 1\n",
    "\n",
    "data_tuples"
   ]
  },
  {
   "cell_type": "code",
   "execution_count": 31,
   "metadata": {
    "scrolled": true
   },
   "outputs": [
    {
     "data": {
      "text/html": [
       "<div>\n",
       "<style scoped>\n",
       "    .dataframe tbody tr th:only-of-type {\n",
       "        vertical-align: middle;\n",
       "    }\n",
       "\n",
       "    .dataframe tbody tr th {\n",
       "        vertical-align: top;\n",
       "    }\n",
       "\n",
       "    .dataframe thead th {\n",
       "        text-align: right;\n",
       "    }\n",
       "</style>\n",
       "<table border=\"1\" class=\"dataframe\">\n",
       "  <thead>\n",
       "    <tr style=\"text-align: right;\">\n",
       "      <th></th>\n",
       "      <th>0000-0002-2733-0689</th>\n",
       "    </tr>\n",
       "  </thead>\n",
       "  <tbody>\n",
       "  </tbody>\n",
       "</table>\n",
       "</div>"
      ],
      "text/plain": [
       "Empty DataFrame\n",
       "Columns: [0000-0002-2733-0689]\n",
       "Index: []"
      ]
     },
     "execution_count": 31,
     "metadata": {},
     "output_type": "execute_result"
    }
   ],
   "source": [
    "#create a dataframe\n",
    "import pandas as pd\n",
    "data = data_tuples\n",
    "index = orcids\n",
    "df = pd.DataFrame(data, index)\n",
    "df = df.transpose()  \n",
    "df\n",
    "#here we see each ORCID and the DOIs tupled with the OA status. "
   ]
  },
  {
   "cell_type": "code",
   "execution_count": 32,
   "metadata": {
    "scrolled": false
   },
   "outputs": [
    {
     "name": "stdout",
     "output_type": "stream",
     "text": [
      "count of true:[0]\n"
     ]
    },
    {
     "ename": "ValueError",
     "evalue": "Length of values (30) does not match length of index (1)",
     "output_type": "error",
     "traceback": [
      "\u001b[0;31m---------------------------------------------------------------------------\u001b[0m",
      "\u001b[0;31mValueError\u001b[0m                                Traceback (most recent call last)",
      "\u001b[0;32m/var/folders/6f/p7r0rgdj65n65jz1z1ks0gk00000gn/T/ipykernel_85378/1495462403.py\u001b[0m in \u001b[0;36m<module>\u001b[0;34m\u001b[0m\n\u001b[1;32m     37\u001b[0m \u001b[0mschool\u001b[0m \u001b[0;34m=\u001b[0m \u001b[0mpd\u001b[0m\u001b[0;34m.\u001b[0m\u001b[0mread_csv\u001b[0m\u001b[0;34m(\u001b[0m\u001b[0;34m'30_orcids.csv'\u001b[0m\u001b[0;34m)\u001b[0m\u001b[0;34m\u001b[0m\u001b[0;34m\u001b[0m\u001b[0m\n\u001b[1;32m     38\u001b[0m \u001b[0mschool\u001b[0m \u001b[0;34m=\u001b[0m \u001b[0mschool\u001b[0m\u001b[0;34m[\u001b[0m\u001b[0;34m'school'\u001b[0m\u001b[0;34m]\u001b[0m\u001b[0;34m.\u001b[0m\u001b[0mtolist\u001b[0m\u001b[0;34m(\u001b[0m\u001b[0;34m)\u001b[0m \u001b[0;31m# to convert to list\u001b[0m\u001b[0;34m\u001b[0m\u001b[0;34m\u001b[0m\u001b[0m\n\u001b[0;32m---> 39\u001b[0;31m \u001b[0mdf\u001b[0m\u001b[0;34m[\u001b[0m\u001b[0;34m'school'\u001b[0m\u001b[0;34m]\u001b[0m \u001b[0;34m=\u001b[0m \u001b[0mschool\u001b[0m\u001b[0;34m\u001b[0m\u001b[0;34m\u001b[0m\u001b[0m\n\u001b[0m\u001b[1;32m     40\u001b[0m \u001b[0mdf\u001b[0m\u001b[0;34m\u001b[0m\u001b[0;34m\u001b[0m\u001b[0m\n",
      "\u001b[0;32m/opt/anaconda3/lib/python3.8/site-packages/pandas/core/frame.py\u001b[0m in \u001b[0;36m__setitem__\u001b[0;34m(self, key, value)\u001b[0m\n\u001b[1;32m   3610\u001b[0m         \u001b[0;32melse\u001b[0m\u001b[0;34m:\u001b[0m\u001b[0;34m\u001b[0m\u001b[0;34m\u001b[0m\u001b[0m\n\u001b[1;32m   3611\u001b[0m             \u001b[0;31m# set column\u001b[0m\u001b[0;34m\u001b[0m\u001b[0;34m\u001b[0m\u001b[0;34m\u001b[0m\u001b[0m\n\u001b[0;32m-> 3612\u001b[0;31m             \u001b[0mself\u001b[0m\u001b[0;34m.\u001b[0m\u001b[0m_set_item\u001b[0m\u001b[0;34m(\u001b[0m\u001b[0mkey\u001b[0m\u001b[0;34m,\u001b[0m \u001b[0mvalue\u001b[0m\u001b[0;34m)\u001b[0m\u001b[0;34m\u001b[0m\u001b[0;34m\u001b[0m\u001b[0m\n\u001b[0m\u001b[1;32m   3613\u001b[0m \u001b[0;34m\u001b[0m\u001b[0m\n\u001b[1;32m   3614\u001b[0m     \u001b[0;32mdef\u001b[0m \u001b[0m_setitem_slice\u001b[0m\u001b[0;34m(\u001b[0m\u001b[0mself\u001b[0m\u001b[0;34m,\u001b[0m \u001b[0mkey\u001b[0m\u001b[0;34m:\u001b[0m \u001b[0mslice\u001b[0m\u001b[0;34m,\u001b[0m \u001b[0mvalue\u001b[0m\u001b[0;34m)\u001b[0m\u001b[0;34m:\u001b[0m\u001b[0;34m\u001b[0m\u001b[0;34m\u001b[0m\u001b[0m\n",
      "\u001b[0;32m/opt/anaconda3/lib/python3.8/site-packages/pandas/core/frame.py\u001b[0m in \u001b[0;36m_set_item\u001b[0;34m(self, key, value)\u001b[0m\n\u001b[1;32m   3782\u001b[0m         \u001b[0mensure\u001b[0m \u001b[0mhomogeneity\u001b[0m\u001b[0;34m.\u001b[0m\u001b[0;34m\u001b[0m\u001b[0;34m\u001b[0m\u001b[0m\n\u001b[1;32m   3783\u001b[0m         \"\"\"\n\u001b[0;32m-> 3784\u001b[0;31m         \u001b[0mvalue\u001b[0m \u001b[0;34m=\u001b[0m \u001b[0mself\u001b[0m\u001b[0;34m.\u001b[0m\u001b[0m_sanitize_column\u001b[0m\u001b[0;34m(\u001b[0m\u001b[0mvalue\u001b[0m\u001b[0;34m)\u001b[0m\u001b[0;34m\u001b[0m\u001b[0;34m\u001b[0m\u001b[0m\n\u001b[0m\u001b[1;32m   3785\u001b[0m \u001b[0;34m\u001b[0m\u001b[0m\n\u001b[1;32m   3786\u001b[0m         if (\n",
      "\u001b[0;32m/opt/anaconda3/lib/python3.8/site-packages/pandas/core/frame.py\u001b[0m in \u001b[0;36m_sanitize_column\u001b[0;34m(self, value)\u001b[0m\n\u001b[1;32m   4507\u001b[0m \u001b[0;34m\u001b[0m\u001b[0m\n\u001b[1;32m   4508\u001b[0m         \u001b[0;32mif\u001b[0m \u001b[0mis_list_like\u001b[0m\u001b[0;34m(\u001b[0m\u001b[0mvalue\u001b[0m\u001b[0;34m)\u001b[0m\u001b[0;34m:\u001b[0m\u001b[0;34m\u001b[0m\u001b[0;34m\u001b[0m\u001b[0m\n\u001b[0;32m-> 4509\u001b[0;31m             \u001b[0mcom\u001b[0m\u001b[0;34m.\u001b[0m\u001b[0mrequire_length_match\u001b[0m\u001b[0;34m(\u001b[0m\u001b[0mvalue\u001b[0m\u001b[0;34m,\u001b[0m \u001b[0mself\u001b[0m\u001b[0;34m.\u001b[0m\u001b[0mindex\u001b[0m\u001b[0;34m)\u001b[0m\u001b[0;34m\u001b[0m\u001b[0;34m\u001b[0m\u001b[0m\n\u001b[0m\u001b[1;32m   4510\u001b[0m         \u001b[0;32mreturn\u001b[0m \u001b[0msanitize_array\u001b[0m\u001b[0;34m(\u001b[0m\u001b[0mvalue\u001b[0m\u001b[0;34m,\u001b[0m \u001b[0mself\u001b[0m\u001b[0;34m.\u001b[0m\u001b[0mindex\u001b[0m\u001b[0;34m,\u001b[0m \u001b[0mcopy\u001b[0m\u001b[0;34m=\u001b[0m\u001b[0;32mTrue\u001b[0m\u001b[0;34m,\u001b[0m \u001b[0mallow_2d\u001b[0m\u001b[0;34m=\u001b[0m\u001b[0;32mTrue\u001b[0m\u001b[0;34m)\u001b[0m\u001b[0;34m\u001b[0m\u001b[0;34m\u001b[0m\u001b[0m\n\u001b[1;32m   4511\u001b[0m \u001b[0;34m\u001b[0m\u001b[0m\n",
      "\u001b[0;32m/opt/anaconda3/lib/python3.8/site-packages/pandas/core/common.py\u001b[0m in \u001b[0;36mrequire_length_match\u001b[0;34m(data, index)\u001b[0m\n\u001b[1;32m    529\u001b[0m     \"\"\"\n\u001b[1;32m    530\u001b[0m     \u001b[0;32mif\u001b[0m \u001b[0mlen\u001b[0m\u001b[0;34m(\u001b[0m\u001b[0mdata\u001b[0m\u001b[0;34m)\u001b[0m \u001b[0;34m!=\u001b[0m \u001b[0mlen\u001b[0m\u001b[0;34m(\u001b[0m\u001b[0mindex\u001b[0m\u001b[0;34m)\u001b[0m\u001b[0;34m:\u001b[0m\u001b[0;34m\u001b[0m\u001b[0;34m\u001b[0m\u001b[0m\n\u001b[0;32m--> 531\u001b[0;31m         raise ValueError(\n\u001b[0m\u001b[1;32m    532\u001b[0m             \u001b[0;34m\"Length of values \"\u001b[0m\u001b[0;34m\u001b[0m\u001b[0;34m\u001b[0m\u001b[0m\n\u001b[1;32m    533\u001b[0m             \u001b[0;34mf\"({len(data)}) \"\u001b[0m\u001b[0;34m\u001b[0m\u001b[0;34m\u001b[0m\u001b[0m\n",
      "\u001b[0;31mValueError\u001b[0m: Length of values (30) does not match length of index (1)"
     ]
    }
   ],
   "source": [
    "#how can i visualize this? \n",
    "import numpy as np\n",
    "import pandas as pd\n",
    "\n",
    "\n",
    "#for each orcid, count the number of publications - visualize\n",
    "i = 0\n",
    "sum_of_pubs = []\n",
    "for i in range(len(orcids)):\n",
    "    a = len(data_tuples[i])\n",
    "    sum_of_pubs.append(a)\n",
    "    i += 1\n",
    "\n",
    "#how many are true?\n",
    "count_of_true = []\n",
    "for v in range(len(is_oa_list)):\n",
    "    temp = []\n",
    "    for w in range(len(is_oa_list[v])):\n",
    "        if is_oa_list[v][w] == True:\n",
    "            a = str(is_oa_list[v][w])\n",
    "            temp.append(a)\n",
    "        w += 1\n",
    "    count_of_true.append(len(temp))\n",
    "    v += 1\n",
    "print(\"count of true:\" + str(count_of_true))\n",
    "\n",
    "#let's see a data frame\n",
    "index = orcids\n",
    "data = {'sum of pubs':sum_of_pubs}\n",
    "df = pd.DataFrame(data, index)\n",
    "df['Count of OAs'] = count_of_true\n",
    "df['OA ratio'] = df['sum of pubs'] / df['Count of OAs']\n",
    "df['OA ratio'] = df['OA ratio'].fillna(0)\n",
    "\n",
    "\n",
    "#have to bring in the csv again to get the school\n",
    "school = pd.read_csv('30_orcids.csv')\n",
    "school = school['school'].tolist() # to convert to list\n",
    "df['school'] = school\n",
    "df"
   ]
  },
  {
   "cell_type": "markdown",
   "metadata": {},
   "source": [
    "#### In the block above\n",
    "I added a few columns to create a more interesting dataframe. Our csv can contain a lot more interesting information. <br>\n",
    "We can also harvest more than 'is_oa' from the unpaywall data, but its time consuming. \n",
    "The OA ratio is an attempt to see how many are OA from those DOI's published by a single ORCID. However, this is so far, only resolving into 1.0 or 0. This needs further investigating. \n",
    "<br>\n",
    "The school data is added back in from the csv. This seemed like an interesting thing to plot against when we have lots of ORCIDs. "
   ]
  },
  {
   "cell_type": "markdown",
   "metadata": {},
   "source": [
    "# let's make this more visual...\n"
   ]
  },
  {
   "cell_type": "code",
   "execution_count": 33,
   "metadata": {
    "scrolled": false
   },
   "outputs": [
    {
     "data": {
      "text/plain": [
       "Text(0.5, 1.0, 'Total number of publications by ORCID')"
      ]
     },
     "execution_count": 33,
     "metadata": {},
     "output_type": "execute_result"
    },
    {
     "data": {
      "image/png": "[encoded data removed]",
      "text/plain": [
       "<Figure size 864x432 with 1 Axes>"
      ]
     },
     "metadata": {},
     "output_type": "display_data"
    }
   ],
   "source": [
    "import matplotlib.pyplot as plt\n",
    "import seaborn as sns\n",
    "\n",
    "sns.set_theme() # set seaborn\n",
    "df.plot.bar(x=None, y='sum of pubs', figsize=(12,6), color='hotpink',\\\n",
    "            ylabel = \"Number of Publications\", xlabel = \"ORCID numbers\") # specify bar plot with the x value of track name\n",
    "plt.title(\"Total number of publications by ORCID\")\n"
   ]
  },
  {
   "cell_type": "markdown",
   "metadata": {},
   "source": [
    "#### The catplot below compares schools against the ratio for OA\n",
    "A bit confusing now, but read the legend as 1 is OA, 0 or inf is not OA"
   ]
  },
  {
   "cell_type": "code",
   "execution_count": 34,
   "metadata": {},
   "outputs": [
    {
     "ename": "ValueError",
     "evalue": "Could not interpret input 'school'",
     "output_type": "error",
     "traceback": [
      "\u001b[0;31m---------------------------------------------------------------------------\u001b[0m",
      "\u001b[0;31mValueError\u001b[0m                                Traceback (most recent call last)",
      "\u001b[0;32m/var/folders/6f/p7r0rgdj65n65jz1z1ks0gk00000gn/T/ipykernel_85378/937474002.py\u001b[0m in \u001b[0;36m<module>\u001b[0;34m\u001b[0m\n\u001b[1;32m      1\u001b[0m \u001b[0;31m#this swarm plot should accomodate larger numbers of examples...\u001b[0m\u001b[0;34m\u001b[0m\u001b[0;34m\u001b[0m\u001b[0;34m\u001b[0m\u001b[0m\n\u001b[0;32m----> 2\u001b[0;31m sns.catplot(x=\"school\", y=\"sum of pubs\", data=df,\\\n\u001b[0m\u001b[1;32m      3\u001b[0m         kind=\"swarm\", hue=\"OA ratio\", height=6, aspect=8/6, s=10)\n\u001b[1;32m      4\u001b[0m \u001b[0mplt\u001b[0m\u001b[0;34m.\u001b[0m\u001b[0mxlabel\u001b[0m\u001b[0;34m(\u001b[0m\u001b[0;34m\"Institution\"\u001b[0m\u001b[0;34m,\u001b[0m \u001b[0msize\u001b[0m \u001b[0;34m=\u001b[0m \u001b[0;36m14\u001b[0m\u001b[0;34m)\u001b[0m\u001b[0;34m\u001b[0m\u001b[0;34m\u001b[0m\u001b[0m\n\u001b[1;32m      5\u001b[0m \u001b[0mplt\u001b[0m\u001b[0;34m.\u001b[0m\u001b[0mylabel\u001b[0m\u001b[0;34m(\u001b[0m\u001b[0;34m\"Number of DOIs\"\u001b[0m\u001b[0;34m,\u001b[0m \u001b[0msize\u001b[0m \u001b[0;34m=\u001b[0m \u001b[0;36m14\u001b[0m\u001b[0;34m)\u001b[0m\u001b[0;34m\u001b[0m\u001b[0;34m\u001b[0m\u001b[0m\n",
      "\u001b[0;32m/opt/anaconda3/lib/python3.8/site-packages/seaborn/_decorators.py\u001b[0m in \u001b[0;36minner_f\u001b[0;34m(*args, **kwargs)\u001b[0m\n\u001b[1;32m     44\u001b[0m             )\n\u001b[1;32m     45\u001b[0m         \u001b[0mkwargs\u001b[0m\u001b[0;34m.\u001b[0m\u001b[0mupdate\u001b[0m\u001b[0;34m(\u001b[0m\u001b[0;34m{\u001b[0m\u001b[0mk\u001b[0m\u001b[0;34m:\u001b[0m \u001b[0marg\u001b[0m \u001b[0;32mfor\u001b[0m \u001b[0mk\u001b[0m\u001b[0;34m,\u001b[0m \u001b[0marg\u001b[0m \u001b[0;32min\u001b[0m \u001b[0mzip\u001b[0m\u001b[0;34m(\u001b[0m\u001b[0msig\u001b[0m\u001b[0;34m.\u001b[0m\u001b[0mparameters\u001b[0m\u001b[0;34m,\u001b[0m \u001b[0margs\u001b[0m\u001b[0;34m)\u001b[0m\u001b[0;34m}\u001b[0m\u001b[0;34m)\u001b[0m\u001b[0;34m\u001b[0m\u001b[0;34m\u001b[0m\u001b[0m\n\u001b[0;32m---> 46\u001b[0;31m         \u001b[0;32mreturn\u001b[0m \u001b[0mf\u001b[0m\u001b[0;34m(\u001b[0m\u001b[0;34m**\u001b[0m\u001b[0mkwargs\u001b[0m\u001b[0;34m)\u001b[0m\u001b[0;34m\u001b[0m\u001b[0;34m\u001b[0m\u001b[0m\n\u001b[0m\u001b[1;32m     47\u001b[0m     \u001b[0;32mreturn\u001b[0m \u001b[0minner_f\u001b[0m\u001b[0;34m\u001b[0m\u001b[0;34m\u001b[0m\u001b[0m\n\u001b[1;32m     48\u001b[0m \u001b[0;34m\u001b[0m\u001b[0m\n",
      "\u001b[0;32m/opt/anaconda3/lib/python3.8/site-packages/seaborn/categorical.py\u001b[0m in \u001b[0;36mcatplot\u001b[0;34m(x, y, hue, data, row, col, col_wrap, estimator, ci, n_boot, units, seed, order, hue_order, row_order, col_order, kind, height, aspect, orient, color, palette, legend, legend_out, sharex, sharey, margin_titles, facet_kws, **kwargs)\u001b[0m\n\u001b[1;32m   3790\u001b[0m     \u001b[0mp\u001b[0m \u001b[0;34m=\u001b[0m \u001b[0m_CategoricalPlotter\u001b[0m\u001b[0;34m(\u001b[0m\u001b[0;34m)\u001b[0m\u001b[0;34m\u001b[0m\u001b[0;34m\u001b[0m\u001b[0m\n\u001b[1;32m   3791\u001b[0m     \u001b[0mp\u001b[0m\u001b[0;34m.\u001b[0m\u001b[0mrequire_numeric\u001b[0m \u001b[0;34m=\u001b[0m \u001b[0mplotter_class\u001b[0m\u001b[0;34m.\u001b[0m\u001b[0mrequire_numeric\u001b[0m\u001b[0;34m\u001b[0m\u001b[0;34m\u001b[0m\u001b[0m\n\u001b[0;32m-> 3792\u001b[0;31m     \u001b[0mp\u001b[0m\u001b[0;34m.\u001b[0m\u001b[0mestablish_variables\u001b[0m\u001b[0;34m(\u001b[0m\u001b[0mx_\u001b[0m\u001b[0;34m,\u001b[0m \u001b[0my_\u001b[0m\u001b[0;34m,\u001b[0m \u001b[0mhue\u001b[0m\u001b[0;34m,\u001b[0m \u001b[0mdata\u001b[0m\u001b[0;34m,\u001b[0m \u001b[0morient\u001b[0m\u001b[0;34m,\u001b[0m \u001b[0morder\u001b[0m\u001b[0;34m,\u001b[0m \u001b[0mhue_order\u001b[0m\u001b[0;34m)\u001b[0m\u001b[0;34m\u001b[0m\u001b[0;34m\u001b[0m\u001b[0m\n\u001b[0m\u001b[1;32m   3793\u001b[0m     if (\n\u001b[1;32m   3794\u001b[0m         \u001b[0morder\u001b[0m \u001b[0;32mis\u001b[0m \u001b[0;32mnot\u001b[0m \u001b[0;32mNone\u001b[0m\u001b[0;34m\u001b[0m\u001b[0;34m\u001b[0m\u001b[0m\n",
      "\u001b[0;32m/opt/anaconda3/lib/python3.8/site-packages/seaborn/categorical.py\u001b[0m in \u001b[0;36mestablish_variables\u001b[0;34m(self, x, y, hue, data, orient, order, hue_order, units)\u001b[0m\n\u001b[1;32m    151\u001b[0m                 \u001b[0;32mif\u001b[0m \u001b[0misinstance\u001b[0m\u001b[0;34m(\u001b[0m\u001b[0mvar\u001b[0m\u001b[0;34m,\u001b[0m \u001b[0mstr\u001b[0m\u001b[0;34m)\u001b[0m\u001b[0;34m:\u001b[0m\u001b[0;34m\u001b[0m\u001b[0;34m\u001b[0m\u001b[0m\n\u001b[1;32m    152\u001b[0m                     \u001b[0merr\u001b[0m \u001b[0;34m=\u001b[0m \u001b[0;34m\"Could not interpret input '{}'\"\u001b[0m\u001b[0;34m.\u001b[0m\u001b[0mformat\u001b[0m\u001b[0;34m(\u001b[0m\u001b[0mvar\u001b[0m\u001b[0;34m)\u001b[0m\u001b[0;34m\u001b[0m\u001b[0;34m\u001b[0m\u001b[0m\n\u001b[0;32m--> 153\u001b[0;31m                     \u001b[0;32mraise\u001b[0m \u001b[0mValueError\u001b[0m\u001b[0;34m(\u001b[0m\u001b[0merr\u001b[0m\u001b[0;34m)\u001b[0m\u001b[0;34m\u001b[0m\u001b[0;34m\u001b[0m\u001b[0m\n\u001b[0m\u001b[1;32m    154\u001b[0m \u001b[0;34m\u001b[0m\u001b[0m\n\u001b[1;32m    155\u001b[0m             \u001b[0;31m# Figure out the plotting orientation\u001b[0m\u001b[0;34m\u001b[0m\u001b[0;34m\u001b[0m\u001b[0;34m\u001b[0m\u001b[0m\n",
      "\u001b[0;31mValueError\u001b[0m: Could not interpret input 'school'"
     ]
    }
   ],
   "source": [
    "#this swarm plot should accomodate larger numbers of examples...\n",
    "sns.catplot(x=\"school\", y=\"sum of pubs\", data=df,\\\n",
    "        kind=\"swarm\", hue=\"OA ratio\", height=6, aspect=8/6, s=10)\n",
    "plt.xlabel(\"Institution\", size = 14)\n",
    "plt.ylabel(\"Number of DOIs\", size = 14)\n",
    "plt.title(\"DOIs by Instituion coded by OA status   1.0=OA\", size=16)"
   ]
  },
  {
   "cell_type": "markdown",
   "metadata": {},
   "source": [
    "## Inferential statistics\n",
    "Oh my goodness...what am I going to get from this mess right here?\n",
    "<br>\n",
    "Our sample shows a mean of 10% for OA, with a std of nearly 30%, which suggests someone is doing all the work..."
   ]
  },
  {
   "cell_type": "code",
   "execution_count": 250,
   "metadata": {
    "scrolled": true
   },
   "outputs": [
    {
     "name": "stdout",
     "output_type": "stream",
     "text": [
      "       sum of pubs  Count of OAs  OA ratio\n",
      "count    30.000000     30.000000      30.0\n",
      "mean      0.566667      0.100000       inf\n",
      "std       1.250747      0.305129       NaN\n",
      "min       0.000000      0.000000       0.0\n",
      "25%       0.000000      0.000000       0.0\n",
      "50%       0.000000      0.000000       0.0\n",
      "75%       1.000000      0.000000       1.0\n",
      "max       6.000000      1.000000       inf\n",
      "wow - for this population, the average publication is 0.56\n"
     ]
    }
   ],
   "source": [
    "df_mean = df.describe()\n",
    "print(df_mean)\n",
    "print(\"wow - for this population, the average publication is 0.56\")"
   ]
  },
  {
   "cell_type": "code",
   "execution_count": 35,
   "metadata": {
    "scrolled": false
   },
   "outputs": [
    {
     "data": {
      "image/png": "[encoded data removed]",
      "text/plain": [
       "<Figure size 720x504 with 1 Axes>"
      ]
     },
     "metadata": {},
     "output_type": "display_data"
    }
   ],
   "source": [
    "#set default size\n",
    "sns.set(rc={'figure.figsize':(10,7)})\n",
    "\n",
    "#create countplot\n",
    "df_counts = sns.countplot(data=df, x='sum of pubs', order=df['sum of pubs'].value_counts().index)\n",
    "df_counts\n",
    "#matplot lib labels\n",
    "df_counts.set(xlabel='Counts of DOIs', ylabel='Counts of ORCIDS', title='Counts of DOIs for all ORCIDs')\n",
    "\n",
    "plt.show()"
   ]
  },
  {
   "cell_type": "code",
   "execution_count": 36,
   "metadata": {},
   "outputs": [
    {
     "ename": "KeyError",
     "evalue": "'school'",
     "output_type": "error",
     "traceback": [
      "\u001b[0;31m---------------------------------------------------------------------------\u001b[0m",
      "\u001b[0;31mKeyError\u001b[0m                                  Traceback (most recent call last)",
      "\u001b[0;32m/var/folders/6f/p7r0rgdj65n65jz1z1ks0gk00000gn/T/ipykernel_85378/2274369260.py\u001b[0m in \u001b[0;36m<module>\u001b[0;34m\u001b[0m\n\u001b[0;32m----> 1\u001b[0;31m \u001b[0mdf_sum\u001b[0m \u001b[0;34m=\u001b[0m \u001b[0mdf\u001b[0m\u001b[0;34m.\u001b[0m\u001b[0mgroupby\u001b[0m\u001b[0;34m(\u001b[0m\u001b[0;34m'school'\u001b[0m\u001b[0;34m)\u001b[0m\u001b[0;34m[\u001b[0m\u001b[0;34m'Count of OAs'\u001b[0m\u001b[0;34m]\u001b[0m\u001b[0;34m.\u001b[0m\u001b[0msum\u001b[0m\u001b[0;34m(\u001b[0m\u001b[0;34m)\u001b[0m\u001b[0;34m\u001b[0m\u001b[0;34m\u001b[0m\u001b[0m\n\u001b[0m\u001b[1;32m      2\u001b[0m \u001b[0mdf_sum\u001b[0m\u001b[0;34m\u001b[0m\u001b[0;34m\u001b[0m\u001b[0m\n",
      "\u001b[0;32m/opt/anaconda3/lib/python3.8/site-packages/pandas/core/frame.py\u001b[0m in \u001b[0;36mgroupby\u001b[0;34m(self, by, axis, level, as_index, sort, group_keys, squeeze, observed, dropna)\u001b[0m\n\u001b[1;32m   7629\u001b[0m         \u001b[0;31m# error: Argument \"squeeze\" to \"DataFrameGroupBy\" has incompatible type\u001b[0m\u001b[0;34m\u001b[0m\u001b[0;34m\u001b[0m\u001b[0;34m\u001b[0m\u001b[0m\n\u001b[1;32m   7630\u001b[0m         \u001b[0;31m# \"Union[bool, NoDefault]\"; expected \"bool\"\u001b[0m\u001b[0;34m\u001b[0m\u001b[0;34m\u001b[0m\u001b[0;34m\u001b[0m\u001b[0m\n\u001b[0;32m-> 7631\u001b[0;31m         return DataFrameGroupBy(\n\u001b[0m\u001b[1;32m   7632\u001b[0m             \u001b[0mobj\u001b[0m\u001b[0;34m=\u001b[0m\u001b[0mself\u001b[0m\u001b[0;34m,\u001b[0m\u001b[0;34m\u001b[0m\u001b[0;34m\u001b[0m\u001b[0m\n\u001b[1;32m   7633\u001b[0m             \u001b[0mkeys\u001b[0m\u001b[0;34m=\u001b[0m\u001b[0mby\u001b[0m\u001b[0;34m,\u001b[0m\u001b[0;34m\u001b[0m\u001b[0;34m\u001b[0m\u001b[0m\n",
      "\u001b[0;32m/opt/anaconda3/lib/python3.8/site-packages/pandas/core/groupby/groupby.py\u001b[0m in \u001b[0;36m__init__\u001b[0;34m(self, obj, keys, axis, level, grouper, exclusions, selection, as_index, sort, group_keys, squeeze, observed, mutated, dropna)\u001b[0m\n\u001b[1;32m    887\u001b[0m             \u001b[0;32mfrom\u001b[0m \u001b[0mpandas\u001b[0m\u001b[0;34m.\u001b[0m\u001b[0mcore\u001b[0m\u001b[0;34m.\u001b[0m\u001b[0mgroupby\u001b[0m\u001b[0;34m.\u001b[0m\u001b[0mgrouper\u001b[0m \u001b[0;32mimport\u001b[0m \u001b[0mget_grouper\u001b[0m\u001b[0;34m\u001b[0m\u001b[0;34m\u001b[0m\u001b[0m\n\u001b[1;32m    888\u001b[0m \u001b[0;34m\u001b[0m\u001b[0m\n\u001b[0;32m--> 889\u001b[0;31m             grouper, exclusions, obj = get_grouper(\n\u001b[0m\u001b[1;32m    890\u001b[0m                 \u001b[0mobj\u001b[0m\u001b[0;34m,\u001b[0m\u001b[0;34m\u001b[0m\u001b[0;34m\u001b[0m\u001b[0m\n\u001b[1;32m    891\u001b[0m                 \u001b[0mkeys\u001b[0m\u001b[0;34m,\u001b[0m\u001b[0;34m\u001b[0m\u001b[0;34m\u001b[0m\u001b[0m\n",
      "\u001b[0;32m/opt/anaconda3/lib/python3.8/site-packages/pandas/core/groupby/grouper.py\u001b[0m in \u001b[0;36mget_grouper\u001b[0;34m(obj, key, axis, level, sort, observed, mutated, validate, dropna)\u001b[0m\n\u001b[1;32m    860\u001b[0m                 \u001b[0min_axis\u001b[0m\u001b[0;34m,\u001b[0m \u001b[0mlevel\u001b[0m\u001b[0;34m,\u001b[0m \u001b[0mgpr\u001b[0m \u001b[0;34m=\u001b[0m \u001b[0;32mFalse\u001b[0m\u001b[0;34m,\u001b[0m \u001b[0mgpr\u001b[0m\u001b[0;34m,\u001b[0m \u001b[0;32mNone\u001b[0m\u001b[0;34m\u001b[0m\u001b[0;34m\u001b[0m\u001b[0m\n\u001b[1;32m    861\u001b[0m             \u001b[0;32melse\u001b[0m\u001b[0;34m:\u001b[0m\u001b[0;34m\u001b[0m\u001b[0;34m\u001b[0m\u001b[0m\n\u001b[0;32m--> 862\u001b[0;31m                 \u001b[0;32mraise\u001b[0m \u001b[0mKeyError\u001b[0m\u001b[0;34m(\u001b[0m\u001b[0mgpr\u001b[0m\u001b[0;34m)\u001b[0m\u001b[0;34m\u001b[0m\u001b[0;34m\u001b[0m\u001b[0m\n\u001b[0m\u001b[1;32m    863\u001b[0m         \u001b[0;32melif\u001b[0m \u001b[0misinstance\u001b[0m\u001b[0;34m(\u001b[0m\u001b[0mgpr\u001b[0m\u001b[0;34m,\u001b[0m \u001b[0mGrouper\u001b[0m\u001b[0;34m)\u001b[0m \u001b[0;32mand\u001b[0m \u001b[0mgpr\u001b[0m\u001b[0;34m.\u001b[0m\u001b[0mkey\u001b[0m \u001b[0;32mis\u001b[0m \u001b[0;32mnot\u001b[0m \u001b[0;32mNone\u001b[0m\u001b[0;34m:\u001b[0m\u001b[0;34m\u001b[0m\u001b[0;34m\u001b[0m\u001b[0m\n\u001b[1;32m    864\u001b[0m             \u001b[0;31m# Add key to exclusions\u001b[0m\u001b[0;34m\u001b[0m\u001b[0;34m\u001b[0m\u001b[0;34m\u001b[0m\u001b[0m\n",
      "\u001b[0;31mKeyError\u001b[0m: 'school'"
     ]
    }
   ],
   "source": [
    "\n",
    "df_sum = df.groupby('school')['Count of OAs'].sum()\n",
    "df_sum"
   ]
  },
  {
   "cell_type": "markdown",
   "metadata": {},
   "source": [
    "# Conclusion\n",
    "### Orcid.org versus using CrossRef.org API's\n",
    "The orcid.org API returns more complete data. The CrossRef API returns very few and these were duplicates to what was already in orcid.org. While the CrossRef API returned a nicely filtered result, the orcid.org API is the one to use. It should be noted, that it is not being used as the documentation at orcid.org specifies!! Somehow, this method used here is working around the whole public/member access key issue. If we are to release this monster into the wild, I should invest more time to fully understand what's going on. \n",
    "\n",
    "### Its easy to run lots using orcid.org search\n",
    "Its really easy to run over 100 ORCIDs at a time by cut and pasting the search results into a csv file using Excel. Just remember to save your csv file in your working directory!\n",
    "\n",
    "### visualizations\n",
    "I spent so much time just getting this thing working, the visuals are minimal. They deserve more time, however, the data I've been putting into it, just isn't that rich so far. I was expecting a more rich dataset - more DOI's per ORCID. \n",
    "\n",
    "### Inferetial statistics\n",
    "The low numbers for DOIs and OAs did not really provide for good inferential statistics. I was able to cobble together a few descriptive statistics. Would a more selective set of ORCIDs be better? I suspect I need some more variables. \n",
    "\n",
    "### association rule mining\n",
    "This might have been the better route to take. However i would need to create a much more interesting dataset. Perhaps this could be enriched with quatifiable data from elsewhere?\n",
    "\n",
    "Overall, I'm beyond pleased that this is working and <i>seems</i> to be robust to work with a variety of ORCIDs and provide at least, a simple evaluate of the main goal:<br>\n",
    "- submit an ORCID\n",
    "- Obtain a list of DOI's\n",
    "- find out which DOI's are OA\n",
    "\n"
   ]
  }
 ],
 "metadata": {
  "kernelspec": {
   "display_name": "Python 3 (ipykernel)",
   "language": "python",
   "name": "python3"
  },
  "language_info": {
   "codemirror_mode": {
    "name": "ipython",
    "version": 3
   },
   "file_extension": ".py",
   "mimetype": "text/x-python",
   "name": "python",
   "nbconvert_exporter": "python",
   "pygments_lexer": "ipython3",
   "version": "3.9.4"
  }
 },
 "nbformat": 4,
 "nbformat_minor": 4
}
